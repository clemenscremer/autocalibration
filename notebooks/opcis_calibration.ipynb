{
 "cells": [
  {
   "cell_type": "markdown",
   "metadata": {},
   "source": [
    "# Calibration of OpCIS Model\n",
    "\n",
    "**Calibation periods**\n",
    "\n",
    "1. 06. May 2022 - 21. May 2022 (max. intertidal range)\n",
    "2. 14. Feb. 2022 - 20. Feb. 2022 (Storm surge)\n",
    "\n",
    "**Optimize**\n",
    "\n",
    "* **Current speeds**: Primary goal. Solely one station (Finkenwerder) `MAE`, `RMSE`, `CC`\n",
    "* **Water levels**: Secondary. Many available. `RMSE`, `CC`. <mark> which ones to evaluate? </mark> \n",
    "    * Kenterpoint detection and phase shift evaluation (prioritize CC - if good results omit kenterpoint detection?). Otherwise reach out to Marco \n",
    "* Discharge: Misc. Only for comparison\n",
    "\n",
    "**Difficulties**\n",
    "* potentially many objectives to optimize. Choose and aggregate wisely\n",
    "\n",
    "**Ideas/Discussion**\n",
    "* good idea to lump rmse and cc for all waterlevels together and have them as first objective? \n",
    "* As current speed is another variable it makes sense to apply and lump different metrics together\n",
    "* should we look at std. dev of errors through stations as well to prevent one station from being great while the others are not?"
   ]
  },
  {
   "cell_type": "code",
   "execution_count": null,
   "metadata": {},
   "outputs": [],
   "source": []
  }
 ],
 "metadata": {
  "kernelspec": {
   "display_name": "autocalibration",
   "language": "python",
   "name": "python3"
  },
  "language_info": {
   "name": "python",
   "version": "3.11.5"
  }
 },
 "nbformat": 4,
 "nbformat_minor": 2
}
